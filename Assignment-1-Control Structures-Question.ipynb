{
 "cells": [
  {
   "cell_type": "code",
   "execution_count": 1,
   "id": "bcf0c2ec",
   "metadata": {},
   "outputs": [
    {
     "name": "stdout",
     "output_type": "stream",
     "text": [
      "Welcome to Assignment-1\n"
     ]
    }
   ],
   "source": [
    "print(\"Welcome to Assignment-1\")"
   ]
  },
  {
   "cell_type": "code",
   "execution_count": 2,
   "id": "7cbba8dd",
   "metadata": {},
   "outputs": [],
   "source": [
    "num1=int(10)\n",
    "num2=int(30)"
   ]
  },
  {
   "cell_type": "code",
   "execution_count": 8,
   "id": "dc8a30e0",
   "metadata": {},
   "outputs": [
    {
     "name": "stdout",
     "output_type": "stream",
     "text": [
      "Num1=  10\n",
      "Num2= 30\n",
      "Add=  40\n"
     ]
    }
   ],
   "source": [
    "print(\"Num1= \",num1)\n",
    "print(\"Num2=\",num2)\n",
    "add=num1+num2\n",
    "print(\"Add= \",add)"
   ]
  },
  {
   "cell_type": "code",
   "execution_count": 7,
   "id": "12c24857",
   "metadata": {},
   "outputs": [],
   "source": [
    "#Body Mass Index"
   ]
  },
  {
   "cell_type": "code",
   "execution_count": 9,
   "id": "60d9e077",
   "metadata": {},
   "outputs": [
    {
     "name": "stdout",
     "output_type": "stream",
     "text": [
      "Enter the BMI Index: 34\n",
      "you are obese class I\n"
     ]
    }
   ],
   "source": [
    "bmi=int(input(\"Enter the BMI Index: \"))\n",
    "if(bmi<18.5):\n",
    "    print(\"under weight\")\n",
    "elif(bmi < 24.9):\n",
    "    print(\"Normal Range\")\n",
    "elif(bmi<30):\n",
    "    print(\"Over Weigth\")\n",
    "elif(bmi < 35):\n",
    "    print(\"you are obese class I\")\n",
    "elif(bmi < 40):\n",
    "    print(\"You are obese class II\")\n",
    "else:\n",
    "    print(\"You are obses class III\")"
   ]
  },
  {
   "cell_type": "code",
   "execution_count": null,
   "id": "84bac1b2",
   "metadata": {},
   "outputs": [],
   "source": []
  }
 ],
 "metadata": {
  "kernelspec": {
   "display_name": "Python 3 (ipykernel)",
   "language": "python",
   "name": "python3"
  },
  "language_info": {
   "codemirror_mode": {
    "name": "ipython",
    "version": 3
   },
   "file_extension": ".py",
   "mimetype": "text/x-python",
   "name": "python",
   "nbconvert_exporter": "python",
   "pygments_lexer": "ipython3",
   "version": "3.11.5"
  }
 },
 "nbformat": 4,
 "nbformat_minor": 5
}
