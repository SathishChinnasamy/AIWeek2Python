{
 "cells": [
  {
   "cell_type": "code",
   "execution_count": 1,
   "id": "c452545d",
   "metadata": {},
   "outputs": [],
   "source": [
    "def subfeilds():\n",
    "    subf=['Machine Learning','Neural Networks','Vision','Robotics','Speech Processing','Natural Language Processing']\n",
    "    print(\"Sub-feilds in AI are :\")\n",
    "    for i in subf:\n",
    "        print(i)"
   ]
  },
  {
   "cell_type": "code",
   "execution_count": 2,
   "id": "5f10a4ff",
   "metadata": {},
   "outputs": [
    {
     "name": "stdout",
     "output_type": "stream",
     "text": [
      "Sub-feilds in AI are :\n",
      "Machine Learning\n",
      "Neural Networks\n",
      "Vision\n",
      "Robotics\n",
      "Speech Processing\n",
      "Natural Language Processing\n"
     ]
    }
   ],
   "source": [
    "subfeilds()"
   ]
  },
  {
   "cell_type": "code",
   "execution_count": 7,
   "id": "2f271402",
   "metadata": {},
   "outputs": [],
   "source": [
    "# Create a function that checks whether the given number is Odd or Even\n",
    "def OddEven():\n",
    "    num=int(input(\"Enter the number\"))\n",
    "    if(num%2==0):\n",
    "        print(num,\" is Even Number\")\n",
    "    else:\n",
    "        print(num,\" is Odd Number\")\n",
    "    "
   ]
  },
  {
   "cell_type": "code",
   "execution_count": 8,
   "id": "e43ccdc2",
   "metadata": {},
   "outputs": [
    {
     "name": "stdout",
     "output_type": "stream",
     "text": [
      "Enter the number52452\n",
      "52452  is Even Number\n"
     ]
    }
   ],
   "source": [
    "OddEven()"
   ]
  },
  {
   "cell_type": "code",
   "execution_count": 9,
   "id": "c53246d3",
   "metadata": {},
   "outputs": [],
   "source": [
    "# Create a function that tells elegibility of marriage for male and female according to their age limit like 21 for male and 18 for female\n",
    "def eligible(gender,age):\n",
    "    if(gender=='Male'):\n",
    "        if(age<=20):\n",
    "            print(\"NOT ELIGIBLE\")\n",
    "        else:\n",
    "            print(\"Eligible\")\n",
    "    else:\n",
    "        if(age<=18):\n",
    "            print(\"NOT ELIGIBLE\")\n",
    "        else:\n",
    "            print(\"Eligible\")"
   ]
  },
  {
   "cell_type": "code",
   "execution_count": 10,
   "id": "e7f6a5d4",
   "metadata": {},
   "outputs": [
    {
     "name": "stdout",
     "output_type": "stream",
     "text": [
      "Your Gender: Male\n",
      "Your Age: 20\n",
      "NOT ELIGIBLE\n"
     ]
    }
   ],
   "source": [
    "gender=input(\"Your Gender: \")\n",
    "age=int(input(\"Your Age: \"))\n",
    "eligible(gender,age)"
   ]
  },
  {
   "cell_type": "code",
   "execution_count": 11,
   "id": "13c1e9e4",
   "metadata": {},
   "outputs": [],
   "source": [
    "# calculate the percentage of your 10th mark\n",
    "def percentage(subject1,subject2,subject3,subject4,subject5):\n",
    "    total=subject1+subject2+subject3+subject4+subject5\n",
    "    print(\"Total: \",total)\n",
    "    percent=(total/500)*100\n",
    "    return percent"
   ]
  },
  {
   "cell_type": "code",
   "execution_count": 12,
   "id": "2bc4375b",
   "metadata": {},
   "outputs": [
    {
     "name": "stdout",
     "output_type": "stream",
     "text": [
      "Subject1= 98\n",
      "Subject2= 87\n",
      "Subject3= 95\n",
      "Subject4= 95\n",
      "Subject5= 93\n",
      "Total:  468\n",
      "Percentage :  93.60000000000001\n"
     ]
    }
   ],
   "source": [
    "subject1=int(input(\"Subject1= \"))\n",
    "subject2=int(input(\"Subject2= \"))\n",
    "subject3=int(input(\"Subject3= \"))\n",
    "subject4=int(input(\"Subject4= \"))\n",
    "subject5=int(input(\"Subject5= \"))\n",
    "percent=percentage(subject1,subject2,subject3,subject4,subject5)\n",
    "print(\"Percentage : \",percent)"
   ]
  },
  {
   "cell_type": "code",
   "execution_count": 19,
   "id": "5fb42109",
   "metadata": {},
   "outputs": [],
   "source": [
    "#print area and perimeter of triangle using class and functions\n",
    "def triangle():\n",
    "    height=int(input(\"Height: \"))\n",
    "    breadth=int(input(\"Breadth: \"))\n",
    "    print(\"Area Formula: (Height * Breadth)/2\")\n",
    "    area=(height*breadth)/2\n",
    "    print(\"Area of Triangle: \",area)\n",
    "    height1=int(input(\"Height1 :\"))\n",
    "    height2=int(input(\"Height2 :\"))\n",
    "    breadth=int(input(\"Breadth: \"))\n",
    "    print(\"Perimeter Formula: Height1 + Height2 +Breadth\")\n",
    "    peri=height1+height2+breadth\n",
    "    print(\"Perimeter of triangle: \",peri)"
   ]
  },
  {
   "cell_type": "code",
   "execution_count": 20,
   "id": "f2635329",
   "metadata": {},
   "outputs": [
    {
     "name": "stdout",
     "output_type": "stream",
     "text": [
      "Height: 32\n",
      "Breadth: 34\n",
      "Area Formula: (Height * Breadth)/2\n",
      "Area of Triangle:  544.0\n",
      "Height1 :2\n",
      "Height2 :4\n",
      "Breadth: 4\n",
      "Perimeter Formula: Height1 + Height2 +Breadth\n",
      "Perimeter of triangle:  10\n"
     ]
    }
   ],
   "source": [
    "triangle()"
   ]
  },
  {
   "cell_type": "code",
   "execution_count": null,
   "id": "7c009022",
   "metadata": {},
   "outputs": [],
   "source": []
  }
 ],
 "metadata": {
  "kernelspec": {
   "display_name": "Python 3 (ipykernel)",
   "language": "python",
   "name": "python3"
  },
  "language_info": {
   "codemirror_mode": {
    "name": "ipython",
    "version": 3
   },
   "file_extension": ".py",
   "mimetype": "text/x-python",
   "name": "python",
   "nbconvert_exporter": "python",
   "pygments_lexer": "ipython3",
   "version": "3.11.5"
  }
 },
 "nbformat": 4,
 "nbformat_minor": 5
}
