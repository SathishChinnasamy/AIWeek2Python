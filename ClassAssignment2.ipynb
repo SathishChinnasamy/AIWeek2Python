{
 "cells": [
  {
   "cell_type": "code",
   "execution_count": 4,
   "id": "14f36ffd",
   "metadata": {},
   "outputs": [],
   "source": [
    "from Assignment4 import Assignment4"
   ]
  },
  {
   "cell_type": "code",
   "execution_count": 5,
   "id": "6b1f5f58",
   "metadata": {},
   "outputs": [
    {
     "name": "stdout",
     "output_type": "stream",
     "text": [
      "Sub-feilds in AI are :\n",
      "Machine Learning\n",
      "Neural Networks\n",
      "Vision\n",
      "Robotics\n",
      "Speech Processing\n",
      "Natural Language Processing\n"
     ]
    }
   ],
   "source": [
    "Assignment4.subfeilds()"
   ]
  },
  {
   "cell_type": "code",
   "execution_count": 6,
   "id": "aec06f6c",
   "metadata": {},
   "outputs": [
    {
     "name": "stdout",
     "output_type": "stream",
     "text": [
      "Enter the number53\n",
      "53  is Odd Number\n"
     ]
    }
   ],
   "source": [
    "Assignment4.OddEven()"
   ]
  },
  {
   "cell_type": "code",
   "execution_count": 7,
   "id": "e8273277",
   "metadata": {},
   "outputs": [
    {
     "name": "stdout",
     "output_type": "stream",
     "text": [
      "Your Gender: Male\n",
      "Your Age: 22\n",
      "Eligible\n"
     ]
    }
   ],
   "source": [
    "gender=input(\"Your Gender: \")\n",
    "age=int(input(\"Your Age: \"))\n",
    "Assignment4.eligible(gender,age)"
   ]
  },
  {
   "cell_type": "code",
   "execution_count": 8,
   "id": "92c94fce",
   "metadata": {},
   "outputs": [
    {
     "name": "stdout",
     "output_type": "stream",
     "text": [
      "Subject1= 75\n",
      "Subject2= 85\n",
      "Subject3= 95\n",
      "Subject4= 85\n",
      "Subject5= 100\n",
      "Total:  440\n",
      "Percentage :  88.0\n"
     ]
    }
   ],
   "source": [
    "subject1=int(input(\"Subject1= \"))\n",
    "subject2=int(input(\"Subject2= \"))\n",
    "subject3=int(input(\"Subject3= \"))\n",
    "subject4=int(input(\"Subject4= \"))\n",
    "subject5=int(input(\"Subject5= \"))\n",
    "percent=Assignment4.percentage(subject1,subject2,subject3,subject4,subject5)\n",
    "print(\"Percentage : \",percent)"
   ]
  },
  {
   "cell_type": "code",
   "execution_count": 9,
   "id": "10b1a899",
   "metadata": {},
   "outputs": [
    {
     "name": "stdout",
     "output_type": "stream",
     "text": [
      "Height: 32\n",
      "Breadth: 34\n",
      "Area Formula: (Height * Breadth)/2\n",
      "Area of Triangle:  544.0\n",
      "Height1 :2\n",
      "Height2 :4\n",
      "Breadth: 4\n",
      "Perimeter Formula: Height1 + Height2 +Breadth\n",
      "Perimeter of triangle:  10\n"
     ]
    }
   ],
   "source": [
    "Assignment4.triangle()"
   ]
  },
  {
   "cell_type": "code",
   "execution_count": null,
   "id": "66d8f000",
   "metadata": {},
   "outputs": [],
   "source": []
  }
 ],
 "metadata": {
  "kernelspec": {
   "display_name": "Python 3 (ipykernel)",
   "language": "python",
   "name": "python3"
  },
  "language_info": {
   "codemirror_mode": {
    "name": "ipython",
    "version": 3
   },
   "file_extension": ".py",
   "mimetype": "text/x-python",
   "name": "python",
   "nbconvert_exporter": "python",
   "pygments_lexer": "ipython3",
   "version": "3.11.5"
  }
 },
 "nbformat": 4,
 "nbformat_minor": 5
}
