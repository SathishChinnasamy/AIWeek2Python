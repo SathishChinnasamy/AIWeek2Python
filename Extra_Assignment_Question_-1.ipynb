{
 "cells": [
  {
   "cell_type": "code",
   "execution_count": 1,
   "id": "2b56147d",
   "metadata": {},
   "outputs": [
    {
     "name": "stdout",
     "output_type": "stream",
     "text": [
      "HOPE AI\n"
     ]
    }
   ],
   "source": [
    "#Print Statement\n",
    "print(\"HOPE AI\")"
   ]
  },
  {
   "cell_type": "code",
   "execution_count": 2,
   "id": "6751247e",
   "metadata": {},
   "outputs": [
    {
     "name": "stdout",
     "output_type": "stream",
     "text": [
      "Enter your institute name?: HOPE AI\n"
     ]
    }
   ],
   "source": [
    "#Buy Input\n",
    "instname=input(\"Enter your institute name?: \")"
   ]
  },
  {
   "cell_type": "code",
   "execution_count": 3,
   "id": "885d4bea",
   "metadata": {},
   "outputs": [
    {
     "name": "stdout",
     "output_type": "stream",
     "text": [
      "Enter your name: Sathish\n",
      "Enter your age: 39\n",
      "Enter your school name: Suburbun Metric higher secondary school\n",
      "Enter your degree: B.Tech Information Technology\n"
     ]
    }
   ],
   "source": [
    "#Buy Inputs\n",
    "name=input(\"Enter your name: \")\n",
    "age=input(\"Enter your age: \")\n",
    "school=input(\"Enter your school name: \")\n",
    "degree=input(\"Enter your degree: \")"
   ]
  },
  {
   "cell_type": "code",
   "execution_count": 4,
   "id": "9092d394",
   "metadata": {},
   "outputs": [
    {
     "name": "stdout",
     "output_type": "stream",
     "text": [
      "a=10\n",
      "b=20\n",
      "add= 30\n"
     ]
    }
   ],
   "source": [
    "#Addition\n",
    "num1=int(input(\"a=\"))\n",
    "num2=int(input(\"b=\"))\n",
    "print(\"add=\",(num1+num2))"
   ]
  },
  {
   "cell_type": "code",
   "execution_count": 5,
   "id": "2a30ce7f",
   "metadata": {},
   "outputs": [
    {
     "name": "stdout",
     "output_type": "stream",
     "text": [
      "a=45\n",
      "b=35\n",
      "sub= 10\n"
     ]
    }
   ],
   "source": [
    "#Subtraction\n",
    "num1=int(input(\"a=\"))\n",
    "num2=int(input(\"b=\"))\n",
    "print(\"sub=\",(num1-num2))"
   ]
  },
  {
   "cell_type": "code",
   "execution_count": 6,
   "id": "c764d018",
   "metadata": {},
   "outputs": [
    {
     "name": "stdout",
     "output_type": "stream",
     "text": [
      "a=3\n",
      "b=4\n",
      "Mul= 12\n"
     ]
    }
   ],
   "source": [
    "#Multiplication:\n",
    "num1=int(input(\"a=\"))\n",
    "num2=int(input(\"b=\"))\n",
    "print(\"Mul=\",(num1*num2))"
   ]
  },
  {
   "cell_type": "code",
   "execution_count": 8,
   "id": "ba6ae60f",
   "metadata": {},
   "outputs": [
    {
     "name": "stdout",
     "output_type": "stream",
     "text": [
      "a=45\n",
      "b=5\n",
      "Div= 9.0\n"
     ]
    }
   ],
   "source": [
    "#Division\n",
    "num1=int(input(\"a=\"))\n",
    "num2=int(input(\"b=\"))\n",
    "print(\"Div=\",(num1/num2))"
   ]
  },
  {
   "cell_type": "code",
   "execution_count": 9,
   "id": "136290b5",
   "metadata": {},
   "outputs": [
    {
     "name": "stdout",
     "output_type": "stream",
     "text": [
      "a=76\n",
      "b=31\n",
      "Floor Div= 2\n"
     ]
    }
   ],
   "source": [
    "#Floor Division\n",
    "num1=int(input(\"a=\"))\n",
    "num2=int(input(\"b=\"))\n",
    "print(\"Floor Div=\",(num1//num2))"
   ]
  },
  {
   "cell_type": "code",
   "execution_count": 10,
   "id": "b639a74a",
   "metadata": {},
   "outputs": [
    {
     "name": "stdout",
     "output_type": "stream",
     "text": [
      "a=7\n",
      "b=3\n",
      "Modulo = 1\n"
     ]
    }
   ],
   "source": [
    "#Modulo\n",
    "num1=int(input(\"a=\"))\n",
    "num2=int(input(\"b=\"))\n",
    "print(\"Modulo =\",(num1%num2))"
   ]
  },
  {
   "cell_type": "code",
   "execution_count": 13,
   "id": "ddaf60e3",
   "metadata": {},
   "outputs": [
    {
     "name": "stdout",
     "output_type": "stream",
     "text": [
      "a=4\n",
      "b=4\n",
      "Power = 256\n"
     ]
    }
   ],
   "source": [
    "#Power\n",
    "num1=int(input(\"a=\"))\n",
    "num2=int(input(\"b=\"))\n",
    "print(\"Power =\",(pow(num1,num2)))"
   ]
  },
  {
   "cell_type": "code",
   "execution_count": null,
   "id": "e633eae0",
   "metadata": {},
   "outputs": [],
   "source": []
  }
 ],
 "metadata": {
  "kernelspec": {
   "display_name": "Python 3 (ipykernel)",
   "language": "python",
   "name": "python3"
  },
  "language_info": {
   "codemirror_mode": {
    "name": "ipython",
    "version": 3
   },
   "file_extension": ".py",
   "mimetype": "text/x-python",
   "name": "python",
   "nbconvert_exporter": "python",
   "pygments_lexer": "ipython3",
   "version": "3.11.5"
  }
 },
 "nbformat": 4,
 "nbformat_minor": 5
}
